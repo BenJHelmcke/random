{
 "cells": [
  {
   "cell_type": "markdown",
   "metadata": {},
   "source": [
    "# Neue Bahnstrecke Berlin - München\n",
    "\n",
    "## Bisher: Blocksystem\n",
    "- einteilung der Strecke in Blöcke\n",
    "- Lockführer muss vor Block anhalten bis dieser freigegeben ist\n",
    "\n",
    "## Neu: Fahrt auf Distanz\n",
    ">- d: System z.B. v = 300 $\\frac{km}{h}$\n",
    "- Lockführer nötig?\n",
    "    - bei Systemfehler -> bremsen\n",
    "    - Gesetz\n",
    "    - redundanter Beitrag\n",
    "    \n",
    "## Berechnung\n",
    "\n",
    "Als erstes Berechnen wir die Strecke, die der Zug bei einer Geschwindigkeit von $300 \\frac{km}{h}$ und einem Reibungskoeffizienten $\\mu = 0.1$, wodurch sich eine Bremskraft von $F_R = 0.98 \\frac{m}{s^2}$ ergibt. \n",
    "\n",
    ">$F_N = m*g$\n",
    "\n",
    ">$F_R = \\mu*F_N$\n",
    "\n",
    ">$F_R = m*a = \\mu*m*g :m$\n",
    "\n",
    ">$v = 300 \\frac{km}{h} = 83.3 \\frac{m}{s}$\n",
    "\n",
    ">$F_R = \\mu*m*g = m * a$\n",
    "\n",
    ">$\\mu *g = a$\n",
    "\n",
    ">$S = \\frac{1}{2} * a * t^2$\n",
    "\n",
    ">$S = \\frac{1}{2} * a * (\\frac{v}{a})^2$\n",
    "\n",
    ">$S = 3.543 km$\n",
    "\n",
    "### Lockführer nötig bei 3.5km Bremsweg?\n",
    "> Überlegungen: bspw. Bremsweg zu lang zum reagieren\n",
    "\n",
    "## Maximale Geschwindigkeit v(d) bei gegebenen Abstand d zum nächsten Zug\n",
    "\n",
    "Es ist die Distanz $d$ zum nächsten Zug in $m$ gegeben. \n",
    "\n",
    "> \\\\(\n",
    "\\begin{align}\n",
    "    S &= d \\\\\n",
    "    \\frac{1}{2}\\cdot a\\cdot \\left( \\frac{v}{a} \\right)^2 &= d \\\\\n",
    "    \\frac{1}{2}\\cdot \\frac{v^2}{a} &= d \\text{ } & \\Big{|} \\text{ } \\cdot 2 \\text{ } \\Big{|} \\text{ } \\cdot a \\text{ } \\Big{|} \\text{ }\\sqrt{\\text{ }} \\\\\n",
    "    v &= \\sqrt{2\\cdot a\\cdot d}\n",
    "\\end{align}\n",
    "\\\\)\n",
    "\n",
    "\n",
    "Nun haben wir die Gleichung $v(d) = \\sqrt{2\\cdot a \\cdot d}$, welche die maximale Geschwindigkeit des Zuges bei gegebenem Absstand zum nächsten Zug angibt, bei welcher rechtzeitig angehalten werden kann.\n",
    "\n",
    "## v(d) mit Reaktionszeit/Reaktionsweg\n",
    "\n",
    "Die Reaktion $t_R = \\frac{1}{2}s$ gibt die Zeit an, welche der Zugführer braucht um die Bremsung einzuleiten. Daher setzt sich Distanz $d$ zum nächsten Zug aus dem Reaktionsweg $\\frac{1}{2}\\cdot v$ und der Streckengleichung $\\frac{v^2}{2d}$\n",
    "\n",
    "> \\\\( \\begin{align}\n",
    "    d &= \\frac{1}{2}\\cdot v+\\frac{1}{2}\\frac{v^2}{d} \\\\\n",
    "    d &= \\frac{v}{2} + \\frac{v^2}{2a} \\text{ } & \\Big{|} \\text{ } \\cdot 2a \\\\\n",
    "    2\\cdot a\\cdot d &= v\\cdot + v^2 \\text{ } & \\Big{|} \\text{ } + \\frac{a^2}{2^2} \\\\\n",
    "    2ad+\\frac{a^2}{4} &= \\left(\\frac{a}{2} \\right)^2 + 2\\left(\\frac{a}{2}\\right)v + v^2 \\\\\n",
    "    2ad+\\frac{a^2}{4} &= \\left(\\frac{a}{2}+v\\right)^2 \\text{ } & \\Big{|} \\text{ } \\sqrt{\\text{ }} \\\\\n",
    "    \\sqrt{2ad+\\frac{a^2}{4}} &= \\frac{a}{2}+v \\text{ } & \\Big{|} \\text{ } -\\frac{a}{2} \\\\\n",
    "    -\\frac{a}{2} \\pm \\sqrt{2ad+\\frac{a^2}{4}} &= v_{1/2}\n",
    "\\end{align} \\\\)"
   ]
  },
  {
   "cell_type": "code",
   "execution_count": 5,
   "metadata": {},
   "outputs": [],
   "source": [
    "import math\n",
    "def v(d, a):\n",
    "    s0 = -a/2\n",
    "    s1 = math.sqrt(2*a*d+a*a/4)\n",
    "    return max(s0+s1, s0-s1)\n",
    "def kmToM(km):\n",
    "    return km*3.6"
   ]
  },
  {
   "cell_type": "code",
   "execution_count": 2,
   "metadata": {},
   "outputs": [
    {
     "data": {
      "text/plain": [
       "82.37831554752668"
      ]
     },
     "execution_count": 2,
     "metadata": {},
     "output_type": "execute_result"
    }
   ],
   "source": [
    "v(3500, 0.981)"
   ]
  },
  {
   "cell_type": "code",
   "execution_count": 6,
   "metadata": {},
   "outputs": [
    {
     "data": {
      "text/plain": [
       "296.5619359710961"
      ]
     },
     "execution_count": 6,
     "metadata": {},
     "output_type": "execute_result"
    }
   ],
   "source": [
    "kmToM(Out[2])"
   ]
  },
  {
   "cell_type": "code",
   "execution_count": null,
   "metadata": {},
   "outputs": [],
   "source": []
  }
 ],
 "metadata": {
  "kernelspec": {
   "display_name": "Python 3",
   "language": "python",
   "name": "python3"
  },
  "language_info": {
   "codemirror_mode": {
    "name": "ipython",
    "version": 3
   },
   "file_extension": ".py",
   "mimetype": "text/x-python",
   "name": "python",
   "nbconvert_exporter": "python",
   "pygments_lexer": "ipython3",
   "version": "3.5.4"
  }
 },
 "nbformat": 4,
 "nbformat_minor": 2
}

